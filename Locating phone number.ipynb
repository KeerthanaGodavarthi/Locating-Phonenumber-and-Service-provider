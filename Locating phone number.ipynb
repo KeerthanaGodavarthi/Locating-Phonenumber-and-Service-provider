{
 "cells": [
  {
   "cell_type": "code",
   "execution_count": null,
   "id": "56528beb-8605-4a32-bfb2-0e205f5594d7",
   "metadata": {},
   "outputs": [],
   "source": [
    "import phonenumbers\n",
    "from phonenumbers import geocoder, carrier\n",
    "\n",
    "def locate_phone_number(phone_number):\n",
    "    try:\n",
    "        # Parse the phone number\n",
    "        parsed_number = phonenumbers.parse(phone_number, \"CH\")\n",
    "        \n",
    "        # Get the geographical location\n",
    "        location = geocoder.description_for_number(parsed_number, \"en\")\n",
    "        \n",
    "        # Get the carrier information\n",
    "        service_provider = carrier.name_for_number(parsed_number, \"en\")\n",
    "        \n",
    "        return location, service_provider\n",
    "    except phonenumbers.NumberParseException as e:\n",
    "        return str(e), None\n",
    "\n",
    "def main():\n",
    "    phone_number = input(\"Enter the phone number (with country code, e.g., +14155552671): \")\n",
    "    \n",
    "    location, service_provider = locate_phone_number(phone_number)\n",
    "    \n",
    "    if service_provider:\n",
    "        print(f\"Location: {location}\")\n",
    "        print(f\"Service Provider: {service_provider}\")\n",
    "    else:\n",
    "        print(f\"Error: {location}\")\n",
    "\n",
    "if __name__ == \"__main__\":\n",
    "    main()\n"
   ]
  },
  {
   "cell_type": "code",
   "execution_count": null,
   "id": "4e40e96d-93ab-4961-ae31-6265fd578384",
   "metadata": {},
   "outputs": [],
   "source": []
  }
 ],
 "metadata": {
  "kernelspec": {
   "display_name": "Python 3 (ipykernel)",
   "language": "python",
   "name": "python3"
  },
  "language_info": {
   "codemirror_mode": {
    "name": "ipython",
    "version": 3
   },
   "file_extension": ".py",
   "mimetype": "text/x-python",
   "name": "python",
   "nbconvert_exporter": "python",
   "pygments_lexer": "ipython3",
   "version": "3.11.7"
  }
 },
 "nbformat": 4,
 "nbformat_minor": 5
}
